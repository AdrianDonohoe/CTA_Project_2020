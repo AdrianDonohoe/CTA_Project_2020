{
 "cells": [
  {
   "cell_type": "code",
   "execution_count": 1,
   "metadata": {},
   "outputs": [],
   "source": [
    "import time\n",
    "import numpy as np\n",
    "import pandas as pd\n",
    "from tabulate import tabulate\n",
    "import seaborn as sns\n",
    "sns.set(style=\"darkgrid\")"
   ]
  },
  {
   "cell_type": "code",
   "execution_count": 2,
   "metadata": {},
   "outputs": [],
   "source": [
    "def random_array(n):\n",
    "    array = []\n",
    "    for i in range(0,n,1):\n",
    "        array.append(np.random.randint(0,100))\n",
    "    return array"
   ]
  },
  {
   "cell_type": "markdown",
   "metadata": {},
   "source": [
    "## 1. BubbleSort"
   ]
  },
  {
   "cell_type": "code",
   "execution_count": 3,
   "metadata": {},
   "outputs": [],
   "source": [
    "# adapted from https://runestone.academy/runestone/books/published/pythonds/SortSearch/TheBubbleSort.html\n",
    "def bubbleSort(alist):\n",
    "    for passnum in range(len(alist)-1,0,-1):   # loop over array from last to first. After the first pass the largest number will be in the last position. Each successive loop will be shorter as the largest number will be at the end and the loop decrements.\n",
    "        for i in range(passnum): # loop from first to last swapping number with the one after it if first number is greater.\n",
    "            if alist[i]>alist[i+1]: # Compare item at postion i with item at position i+1\n",
    "                alist[i], alist[i+1] = alist[i+1], alist[i] # Swap the two items if above condtion is matched\n"
   ]
  },
  {
   "cell_type": "code",
   "execution_count": 164,
   "metadata": {},
   "outputs": [
    {
     "data": {
      "text/html": [
       "<div>\n",
       "<style scoped>\n",
       "    .dataframe tbody tr th:only-of-type {\n",
       "        vertical-align: middle;\n",
       "    }\n",
       "\n",
       "    .dataframe tbody tr th {\n",
       "        vertical-align: top;\n",
       "    }\n",
       "\n",
       "    .dataframe thead th {\n",
       "        text-align: right;\n",
       "    }\n",
       "</style>\n",
       "<table border=\"1\" class=\"dataframe\">\n",
       "  <thead>\n",
       "    <tr style=\"text-align: right;\">\n",
       "      <th></th>\n",
       "      <th>bubble</th>\n",
       "      <th>merge</th>\n",
       "      <th>counting</th>\n",
       "      <th>insertion</th>\n",
       "      <th>selection</th>\n",
       "      <th>n</th>\n",
       "    </tr>\n",
       "  </thead>\n",
       "  <tbody>\n",
       "    <tr>\n",
       "      <th>0</th>\n",
       "      <td>NaN</td>\n",
       "      <td>NaN</td>\n",
       "      <td>NaN</td>\n",
       "      <td>NaN</td>\n",
       "      <td>NaN</td>\n",
       "      <td>NaN</td>\n",
       "    </tr>\n",
       "    <tr>\n",
       "      <th>1</th>\n",
       "      <td>NaN</td>\n",
       "      <td>NaN</td>\n",
       "      <td>NaN</td>\n",
       "      <td>NaN</td>\n",
       "      <td>NaN</td>\n",
       "      <td>NaN</td>\n",
       "    </tr>\n",
       "    <tr>\n",
       "      <th>2</th>\n",
       "      <td>NaN</td>\n",
       "      <td>NaN</td>\n",
       "      <td>NaN</td>\n",
       "      <td>NaN</td>\n",
       "      <td>NaN</td>\n",
       "      <td>NaN</td>\n",
       "    </tr>\n",
       "    <tr>\n",
       "      <th>3</th>\n",
       "      <td>NaN</td>\n",
       "      <td>NaN</td>\n",
       "      <td>NaN</td>\n",
       "      <td>NaN</td>\n",
       "      <td>NaN</td>\n",
       "      <td>NaN</td>\n",
       "    </tr>\n",
       "    <tr>\n",
       "      <th>4</th>\n",
       "      <td>NaN</td>\n",
       "      <td>NaN</td>\n",
       "      <td>NaN</td>\n",
       "      <td>NaN</td>\n",
       "      <td>NaN</td>\n",
       "      <td>NaN</td>\n",
       "    </tr>\n",
       "  </tbody>\n",
       "</table>\n",
       "</div>"
      ],
      "text/plain": [
       "  bubble merge counting insertion selection    n\n",
       "0    NaN   NaN      NaN       NaN       NaN  NaN\n",
       "1    NaN   NaN      NaN       NaN       NaN  NaN\n",
       "2    NaN   NaN      NaN       NaN       NaN  NaN\n",
       "3    NaN   NaN      NaN       NaN       NaN  NaN\n",
       "4    NaN   NaN      NaN       NaN       NaN  NaN"
      ]
     },
     "execution_count": 164,
     "metadata": {},
     "output_type": "execute_result"
    }
   ],
   "source": [
    "#cols = ['n=100','n=250','n=500','n=750','n=1000','n=1250','n=2500','n=3750','n=5000','n=6250','n=7500','n=8750','n=10000']\n",
    "#cols = ['n=100','n=250','n=500','n=750','n=1000','n=1250','n=2500']\n",
    "cols = ['bubble','merge','counting','insertion','selection','n']\n",
    "indexes = [0,1,2,3,4]\n",
    "times_df =  pd.DataFrame(columns=cols,index=indexes)\n",
    "times_df"
   ]
  },
  {
   "cell_type": "code",
   "execution_count": 165,
   "metadata": {},
   "outputs": [
    {
     "name": "stdout",
     "output_type": "stream",
     "text": [
      "array size: 100\n",
      "Run number 0  0.001627206802368164\n",
      "Run number 1  0.0013370513916015625\n",
      "Run number 2  0.0012559890747070312\n",
      "Run number 3  0.001127004623413086\n",
      "Run number 4  0.0011723041534423828\n",
      "Run number 5  0.0011444091796875\n",
      "Run number 6  0.006824016571044922\n",
      "Run number 7  0.0012390613555908203\n",
      "Run number 8  0.0035560131072998047\n",
      "Run number 9  0.0011379718780517578\n",
      "Total time:  0.02042102813720703\n",
      "Avg:  0.002\n",
      "array size: 250\n",
      "Run number 0  0.014873981475830078\n",
      "Run number 1  0.017999887466430664\n",
      "Run number 2  0.014123678207397461\n",
      "Run number 3  0.01967763900756836\n",
      "Run number 4  0.016696929931640625\n",
      "Run number 5  0.01308131217956543\n",
      "Run number 6  0.015473365783691406\n",
      "Run number 7  0.022303104400634766\n",
      "Run number 8  0.020200014114379883\n",
      "Run number 9  0.014179706573486328\n",
      "Total time:  0.168609619140625\n",
      "Avg:  0.017\n",
      "array size: 500\n",
      "Run number 0  0.07571792602539062\n",
      "Run number 1  0.08199572563171387\n",
      "Run number 2  0.059273719787597656\n",
      "Run number 3  0.07303667068481445\n",
      "Run number 4  0.07619547843933105\n",
      "Run number 5  0.06796407699584961\n",
      "Run number 6  0.0689706802368164\n",
      "Run number 7  0.05009150505065918\n",
      "Run number 8  0.0699317455291748\n",
      "Run number 9  0.058090925216674805\n",
      "Total time:  0.6812684535980225\n",
      "Avg:  0.068\n",
      "array size: 750\n",
      "Run number 0  0.08209395408630371\n",
      "Run number 1  0.1072394847869873\n",
      "Run number 2  0.11066532135009766\n",
      "Run number 3  0.0815439224243164\n",
      "Run number 4  0.14192557334899902\n",
      "Run number 5  0.07750606536865234\n",
      "Run number 6  0.07545757293701172\n",
      "Run number 7  0.11323738098144531\n",
      "Run number 8  0.10674738883972168\n",
      "Run number 9  0.0853416919708252\n",
      "Total time:  0.9817583560943604\n",
      "Avg:  0.098\n",
      "array size: 1000\n",
      "Run number 0  0.29446935653686523\n",
      "Run number 1  0.15157747268676758\n",
      "Run number 2  0.2817866802215576\n",
      "Run number 3  0.17103862762451172\n",
      "Run number 4  0.22146964073181152\n",
      "Run number 5  0.14248156547546387\n",
      "Run number 6  0.22583532333374023\n",
      "Run number 7  0.1334233283996582\n",
      "Run number 8  0.21917176246643066\n",
      "Run number 9  0.14598751068115234\n",
      "Total time:  1.987241268157959\n",
      "Avg:  0.199\n"
     ]
    },
    {
     "data": {
      "text/html": [
       "<div>\n",
       "<style scoped>\n",
       "    .dataframe tbody tr th:only-of-type {\n",
       "        vertical-align: middle;\n",
       "    }\n",
       "\n",
       "    .dataframe tbody tr th {\n",
       "        vertical-align: top;\n",
       "    }\n",
       "\n",
       "    .dataframe thead th {\n",
       "        text-align: right;\n",
       "    }\n",
       "</style>\n",
       "<table border=\"1\" class=\"dataframe\">\n",
       "  <thead>\n",
       "    <tr style=\"text-align: right;\">\n",
       "      <th></th>\n",
       "      <th>bubble</th>\n",
       "      <th>merge</th>\n",
       "      <th>counting</th>\n",
       "      <th>insertion</th>\n",
       "      <th>selection</th>\n",
       "      <th>n</th>\n",
       "    </tr>\n",
       "  </thead>\n",
       "  <tbody>\n",
       "    <tr>\n",
       "      <th>0</th>\n",
       "      <td>0.002</td>\n",
       "      <td>NaN</td>\n",
       "      <td>NaN</td>\n",
       "      <td>NaN</td>\n",
       "      <td>NaN</td>\n",
       "      <td>100</td>\n",
       "    </tr>\n",
       "    <tr>\n",
       "      <th>1</th>\n",
       "      <td>0.017</td>\n",
       "      <td>NaN</td>\n",
       "      <td>NaN</td>\n",
       "      <td>NaN</td>\n",
       "      <td>NaN</td>\n",
       "      <td>250</td>\n",
       "    </tr>\n",
       "    <tr>\n",
       "      <th>2</th>\n",
       "      <td>0.068</td>\n",
       "      <td>NaN</td>\n",
       "      <td>NaN</td>\n",
       "      <td>NaN</td>\n",
       "      <td>NaN</td>\n",
       "      <td>500</td>\n",
       "    </tr>\n",
       "    <tr>\n",
       "      <th>3</th>\n",
       "      <td>0.098</td>\n",
       "      <td>NaN</td>\n",
       "      <td>NaN</td>\n",
       "      <td>NaN</td>\n",
       "      <td>NaN</td>\n",
       "      <td>750</td>\n",
       "    </tr>\n",
       "    <tr>\n",
       "      <th>4</th>\n",
       "      <td>0.199</td>\n",
       "      <td>NaN</td>\n",
       "      <td>NaN</td>\n",
       "      <td>NaN</td>\n",
       "      <td>NaN</td>\n",
       "      <td>1000</td>\n",
       "    </tr>\n",
       "  </tbody>\n",
       "</table>\n",
       "</div>"
      ],
      "text/plain": [
       "  bubble merge counting insertion selection     n\n",
       "0  0.002   NaN      NaN       NaN       NaN   100\n",
       "1  0.017   NaN      NaN       NaN       NaN   250\n",
       "2  0.068   NaN      NaN       NaN       NaN   500\n",
       "3  0.098   NaN      NaN       NaN       NaN   750\n",
       "4  0.199   NaN      NaN       NaN       NaN  1000"
      ]
     },
     "execution_count": 165,
     "metadata": {},
     "output_type": "execute_result"
    }
   ],
   "source": [
    "#array_size = [100, 250, 500, 750, 1000, 1250, 2500, 3750, 5000, 6250, 7500, 8750, 10000]\n",
    "array_size = [100, 250, 500, 750, 1000]\n",
    "\n",
    "\n",
    "for i in range(0,len(array_size)):\n",
    "    total_time = 0\n",
    "    print(\"array size: \" + str(array_size[i]))\n",
    "    for j in range(10):\n",
    "        my_array = random_array(array_size[i])\n",
    "        start_time = time.time()\n",
    "        bubbleSort(my_array)\n",
    "        finish_time = time.time()\n",
    "        time_elapsed = finish_time - start_time\n",
    "        print('Run number ' + str(j) + ' ', time_elapsed)\n",
    "        total_time += time_elapsed\n",
    "    print('Total time: ', total_time)\n",
    "    \n",
    "    times_df.iat[i,0] = round((total_time/10),3)\n",
    "    times_df.iat[i,5] = array_size[i]\n",
    "    print('Avg: ', times_df.iat[i,0])\n",
    "    \n",
    "    \n",
    "    \n",
    "times_df\n"
   ]
  },
  {
   "cell_type": "markdown",
   "metadata": {},
   "source": [
    "## 2. MergeSort"
   ]
  },
  {
   "cell_type": "code",
   "execution_count": 166,
   "metadata": {},
   "outputs": [],
   "source": [
    "# Adapted from https://runestone.academy/runestone/books/published/pythonds/SortSearch/TheMergeSort.html\n",
    "def mergeSort(alist):\n",
    "    #print(\"Splitting \",alist)\n",
    "    if len(alist)>1:\n",
    "        mid = len(alist)//2\n",
    "        lefthalf = alist[:mid]\n",
    "        righthalf = alist[mid:]\n",
    "\n",
    "        mergeSort(lefthalf)\n",
    "        mergeSort(righthalf)\n",
    "\n",
    "        i=0\n",
    "        j=0\n",
    "        k=0\n",
    "        while i < len(lefthalf) and j < len(righthalf):\n",
    "            if lefthalf[i] <= righthalf[j]:\n",
    "                alist[k]=lefthalf[i]\n",
    "                i=i+1\n",
    "            else:\n",
    "                alist[k]=righthalf[j]\n",
    "                j=j+1\n",
    "            k=k+1\n",
    "\n",
    "        while i < len(lefthalf):\n",
    "            alist[k]=lefthalf[i]\n",
    "            i=i+1\n",
    "            k=k+1\n",
    "\n",
    "        while j < len(righthalf):\n",
    "            alist[k]=righthalf[j]\n",
    "            j=j+1\n",
    "            k=k+1\n",
    "    #print(\"Merging \",alist)\n"
   ]
  },
  {
   "cell_type": "code",
   "execution_count": 167,
   "metadata": {},
   "outputs": [
    {
     "name": "stdout",
     "output_type": "stream",
     "text": [
      "array size: 100\n",
      "Run number 0  0.0005457401275634766\n",
      "Run number 1  0.0005691051483154297\n",
      "Run number 2  0.0005040168762207031\n",
      "Run number 3  0.000392913818359375\n",
      "Run number 4  0.00040793418884277344\n",
      "Run number 5  0.0003879070281982422\n",
      "Run number 6  0.0003345012664794922\n",
      "Run number 7  0.007594108581542969\n",
      "Run number 8  0.00034117698669433594\n",
      "Run number 9  0.000339508056640625\n",
      "Total time:  0.011416912078857422\n",
      "Avg:  0.001\n",
      "array size: 250\n",
      "Run number 0  0.001344442367553711\n",
      "Run number 1  0.004358530044555664\n",
      "Run number 2  0.0010530948638916016\n",
      "Run number 3  0.001486063003540039\n",
      "Run number 4  0.0011525154113769531\n",
      "Run number 5  0.001155853271484375\n",
      "Run number 6  0.0010223388671875\n",
      "Run number 7  0.005008697509765625\n",
      "Run number 8  0.00576472282409668\n",
      "Run number 9  0.001155853271484375\n",
      "Total time:  0.023502111434936523\n",
      "Avg:  0.002\n",
      "array size: 500\n",
      "Run number 0  0.007430553436279297\n",
      "Run number 1  0.006805896759033203\n",
      "Run number 2  0.007514238357543945\n",
      "Run number 3  0.0026352405548095703\n",
      "Run number 4  0.008661746978759766\n",
      "Run number 5  0.0067903995513916016\n",
      "Run number 6  0.0023238658905029297\n",
      "Run number 7  0.002652883529663086\n",
      "Run number 8  0.006795167922973633\n",
      "Run number 9  0.0024285316467285156\n",
      "Total time:  0.05403852462768555\n",
      "Avg:  0.005\n",
      "array size: 750\n",
      "Run number 0  0.01032114028930664\n",
      "Run number 1  0.010234594345092773\n",
      "Run number 2  0.010251283645629883\n",
      "Run number 3  0.007996320724487305\n",
      "Run number 4  0.006954193115234375\n",
      "Run number 5  0.0036482810974121094\n",
      "Run number 6  0.006949901580810547\n",
      "Run number 7  0.007761716842651367\n",
      "Run number 8  0.00452113151550293\n",
      "Run number 9  0.012639045715332031\n",
      "Total time:  0.08127760887145996\n",
      "Avg:  0.008\n",
      "array size: 1000\n",
      "Run number 0  0.009199380874633789\n",
      "Run number 1  0.013199806213378906\n",
      "Run number 2  0.012556076049804688\n",
      "Run number 3  0.008676290512084961\n",
      "Run number 4  0.01434016227722168\n",
      "Run number 5  0.012211799621582031\n",
      "Run number 6  0.014642953872680664\n",
      "Run number 7  0.009239673614501953\n",
      "Run number 8  0.005547761917114258\n",
      "Run number 9  0.00900125503540039\n",
      "Total time:  0.10861515998840332\n",
      "Avg:  0.011\n"
     ]
    },
    {
     "data": {
      "text/html": [
       "<div>\n",
       "<style scoped>\n",
       "    .dataframe tbody tr th:only-of-type {\n",
       "        vertical-align: middle;\n",
       "    }\n",
       "\n",
       "    .dataframe tbody tr th {\n",
       "        vertical-align: top;\n",
       "    }\n",
       "\n",
       "    .dataframe thead th {\n",
       "        text-align: right;\n",
       "    }\n",
       "</style>\n",
       "<table border=\"1\" class=\"dataframe\">\n",
       "  <thead>\n",
       "    <tr style=\"text-align: right;\">\n",
       "      <th></th>\n",
       "      <th>bubble</th>\n",
       "      <th>merge</th>\n",
       "      <th>counting</th>\n",
       "      <th>insertion</th>\n",
       "      <th>selection</th>\n",
       "      <th>n</th>\n",
       "    </tr>\n",
       "  </thead>\n",
       "  <tbody>\n",
       "    <tr>\n",
       "      <th>0</th>\n",
       "      <td>0.002</td>\n",
       "      <td>0.001</td>\n",
       "      <td>NaN</td>\n",
       "      <td>NaN</td>\n",
       "      <td>NaN</td>\n",
       "      <td>100</td>\n",
       "    </tr>\n",
       "    <tr>\n",
       "      <th>1</th>\n",
       "      <td>0.017</td>\n",
       "      <td>0.002</td>\n",
       "      <td>NaN</td>\n",
       "      <td>NaN</td>\n",
       "      <td>NaN</td>\n",
       "      <td>250</td>\n",
       "    </tr>\n",
       "    <tr>\n",
       "      <th>2</th>\n",
       "      <td>0.068</td>\n",
       "      <td>0.005</td>\n",
       "      <td>NaN</td>\n",
       "      <td>NaN</td>\n",
       "      <td>NaN</td>\n",
       "      <td>500</td>\n",
       "    </tr>\n",
       "    <tr>\n",
       "      <th>3</th>\n",
       "      <td>0.098</td>\n",
       "      <td>0.008</td>\n",
       "      <td>NaN</td>\n",
       "      <td>NaN</td>\n",
       "      <td>NaN</td>\n",
       "      <td>750</td>\n",
       "    </tr>\n",
       "    <tr>\n",
       "      <th>4</th>\n",
       "      <td>0.199</td>\n",
       "      <td>0.011</td>\n",
       "      <td>NaN</td>\n",
       "      <td>NaN</td>\n",
       "      <td>NaN</td>\n",
       "      <td>1000</td>\n",
       "    </tr>\n",
       "  </tbody>\n",
       "</table>\n",
       "</div>"
      ],
      "text/plain": [
       "  bubble  merge counting insertion selection     n\n",
       "0  0.002  0.001      NaN       NaN       NaN   100\n",
       "1  0.017  0.002      NaN       NaN       NaN   250\n",
       "2  0.068  0.005      NaN       NaN       NaN   500\n",
       "3  0.098  0.008      NaN       NaN       NaN   750\n",
       "4  0.199  0.011      NaN       NaN       NaN  1000"
      ]
     },
     "execution_count": 167,
     "metadata": {},
     "output_type": "execute_result"
    }
   ],
   "source": [
    "#array_size = [100, 250, 500, 750, 1000, 1250, 2500, 3750, 5000, 6250, 7500, 8750, 10000]\n",
    "\n",
    "array_size = [100, 250, 500, 750, 1000]\n",
    "\n",
    "for i in range(0,len(array_size)):\n",
    "    total_time = 0\n",
    "    print(\"array size: \" + str(array_size[i]))\n",
    "    for j in range(10):\n",
    "        my_array = random_array(array_size[i])\n",
    "        start_time = time.time()\n",
    "        mergeSort(my_array)\n",
    "        finish_time = time.time()\n",
    "        time_elapsed = finish_time - start_time\n",
    "        print('Run number ' + str(j) + ' ', time_elapsed)\n",
    "        total_time += time_elapsed\n",
    "        #print(my_array)\n",
    "    print('Total time: ', total_time)\n",
    "    \n",
    "    times_df.iat[i,1] = round((total_time/10),3)\n",
    "    print('Avg: ', times_df.iat[i,1])\n",
    "    \n",
    "    \n",
    "    \n",
    "times_df"
   ]
  },
  {
   "cell_type": "markdown",
   "metadata": {},
   "source": [
    "## 3. CountingSort"
   ]
  },
  {
   "cell_type": "code",
   "execution_count": 21,
   "metadata": {},
   "outputs": [],
   "source": [
    "# Adapted from https://www.w3resource.com/python-exercises/data-structures-and-algorithms/python-search-and-sorting-exercise-10.php\n",
    "def countingSort(array1):\n",
    "    m = len(array1) \n",
    "    count = [0] * m   # make an array with m elements containing 0             \n",
    "    \n",
    "    for a in array1: # itareate over the array to be sorted\n",
    "    # count occurences of a and increment the count array element for that a\n",
    "        count[a] += 1             \n",
    "    i = 0\n",
    "    for a in range(m):    # iterate over values of the array to be counted        \n",
    "        for c in range(count[a]):  # fill the array to be counted with count[a] times value a \n",
    "            array1[i] = a\n",
    "            i += 1\n",
    "    return array1"
   ]
  },
  {
   "cell_type": "code",
   "execution_count": 168,
   "metadata": {},
   "outputs": [
    {
     "name": "stdout",
     "output_type": "stream",
     "text": [
      "array size: 100\n",
      "Run number 0  5.1021575927734375e-05\n",
      "Run number 1  4.601478576660156e-05\n",
      "Run number 2  5.91278076171875e-05\n",
      "Run number 3  6.175041198730469e-05\n",
      "Run number 4  4.2438507080078125e-05\n",
      "Run number 5  4.267692565917969e-05\n",
      "Run number 6  4.220008850097656e-05\n",
      "Run number 7  4.506111145019531e-05\n",
      "Run number 8  5.4836273193359375e-05\n",
      "Run number 9  4.553794860839844e-05\n",
      "Total time:  0.0004906654357910156\n",
      "Avg:  0.0\n",
      "array size: 250\n",
      "Run number 0  9.703636169433594e-05\n",
      "Run number 1  9.560585021972656e-05\n",
      "Run number 2  0.00010251998901367188\n",
      "Run number 3  9.894371032714844e-05\n",
      "Run number 4  0.00011682510375976562\n",
      "Run number 5  0.0002396106719970703\n",
      "Run number 6  0.00010824203491210938\n",
      "Run number 7  0.00015306472778320312\n",
      "Run number 8  0.00016546249389648438\n",
      "Run number 9  0.00013899803161621094\n",
      "Total time:  0.0013163089752197266\n",
      "Avg:  0.0\n",
      "array size: 500\n",
      "Run number 0  0.0001850128173828125\n",
      "Run number 1  0.00018644332885742188\n",
      "Run number 2  0.0030014514923095703\n",
      "Run number 3  0.00018668174743652344\n",
      "Run number 4  0.0042705535888671875\n",
      "Run number 5  0.00018858909606933594\n",
      "Run number 6  0.00021219253540039062\n",
      "Run number 7  0.00025153160095214844\n",
      "Run number 8  0.0001862049102783203\n",
      "Run number 9  0.00028967857360839844\n",
      "Total time:  0.00895833969116211\n",
      "Avg:  0.001\n",
      "array size: 750\n",
      "Run number 0  0.00027489662170410156\n",
      "Run number 1  0.0030236244201660156\n",
      "Run number 2  0.0003266334533691406\n",
      "Run number 3  0.0003299713134765625\n",
      "Run number 4  0.0037391185760498047\n",
      "Run number 5  0.00027561187744140625\n",
      "Run number 6  0.00032782554626464844\n",
      "Run number 7  0.0002803802490234375\n",
      "Run number 8  0.00031375885009765625\n",
      "Run number 9  0.002260923385620117\n",
      "Total time:  0.01115274429321289\n",
      "Avg:  0.001\n",
      "array size: 1000\n",
      "Run number 0  0.0003643035888671875\n",
      "Run number 1  0.00042247772216796875\n",
      "Run number 2  0.0006182193756103516\n",
      "Run number 3  0.0004646778106689453\n",
      "Run number 4  0.0005128383636474609\n",
      "Run number 5  0.00036597251892089844\n",
      "Run number 6  0.00036406517028808594\n",
      "Run number 7  0.0004413127899169922\n",
      "Run number 8  0.00044655799865722656\n",
      "Run number 9  0.0005292892456054688\n",
      "Total time:  0.004529714584350586\n",
      "Avg:  0.0\n"
     ]
    },
    {
     "data": {
      "text/html": [
       "<div>\n",
       "<style scoped>\n",
       "    .dataframe tbody tr th:only-of-type {\n",
       "        vertical-align: middle;\n",
       "    }\n",
       "\n",
       "    .dataframe tbody tr th {\n",
       "        vertical-align: top;\n",
       "    }\n",
       "\n",
       "    .dataframe thead th {\n",
       "        text-align: right;\n",
       "    }\n",
       "</style>\n",
       "<table border=\"1\" class=\"dataframe\">\n",
       "  <thead>\n",
       "    <tr style=\"text-align: right;\">\n",
       "      <th></th>\n",
       "      <th>bubble</th>\n",
       "      <th>merge</th>\n",
       "      <th>counting</th>\n",
       "      <th>insertion</th>\n",
       "      <th>selection</th>\n",
       "      <th>n</th>\n",
       "    </tr>\n",
       "  </thead>\n",
       "  <tbody>\n",
       "    <tr>\n",
       "      <th>0</th>\n",
       "      <td>0.002</td>\n",
       "      <td>0.001</td>\n",
       "      <td>0</td>\n",
       "      <td>NaN</td>\n",
       "      <td>NaN</td>\n",
       "      <td>100</td>\n",
       "    </tr>\n",
       "    <tr>\n",
       "      <th>1</th>\n",
       "      <td>0.017</td>\n",
       "      <td>0.002</td>\n",
       "      <td>0</td>\n",
       "      <td>NaN</td>\n",
       "      <td>NaN</td>\n",
       "      <td>250</td>\n",
       "    </tr>\n",
       "    <tr>\n",
       "      <th>2</th>\n",
       "      <td>0.068</td>\n",
       "      <td>0.005</td>\n",
       "      <td>0.001</td>\n",
       "      <td>NaN</td>\n",
       "      <td>NaN</td>\n",
       "      <td>500</td>\n",
       "    </tr>\n",
       "    <tr>\n",
       "      <th>3</th>\n",
       "      <td>0.098</td>\n",
       "      <td>0.008</td>\n",
       "      <td>0.001</td>\n",
       "      <td>NaN</td>\n",
       "      <td>NaN</td>\n",
       "      <td>750</td>\n",
       "    </tr>\n",
       "    <tr>\n",
       "      <th>4</th>\n",
       "      <td>0.199</td>\n",
       "      <td>0.011</td>\n",
       "      <td>0</td>\n",
       "      <td>NaN</td>\n",
       "      <td>NaN</td>\n",
       "      <td>1000</td>\n",
       "    </tr>\n",
       "  </tbody>\n",
       "</table>\n",
       "</div>"
      ],
      "text/plain": [
       "  bubble  merge counting insertion selection     n\n",
       "0  0.002  0.001        0       NaN       NaN   100\n",
       "1  0.017  0.002        0       NaN       NaN   250\n",
       "2  0.068  0.005    0.001       NaN       NaN   500\n",
       "3  0.098  0.008    0.001       NaN       NaN   750\n",
       "4  0.199  0.011        0       NaN       NaN  1000"
      ]
     },
     "execution_count": 168,
     "metadata": {},
     "output_type": "execute_result"
    }
   ],
   "source": [
    "#array_size = [100, 250, 500, 750, 1000, 1250, 2500, 3750, 5000, 6250, 7500, 8750, 10000]\n",
    "\n",
    "array_size = [100,250,500,750,1000]\n",
    "\n",
    "for i in range(0,len(array_size)):\n",
    "    total_time = 0\n",
    "    print(\"array size: \" + str(array_size[i]))\n",
    "    for j in range(10):\n",
    "        my_array = random_array(array_size[i])\n",
    "        start_time = time.time()\n",
    "        res = countingSort(my_array)\n",
    "        finish_time = time.time()\n",
    "        #print(res)\n",
    "        time_elapsed = finish_time - start_time\n",
    "        print('Run number ' + str(j) + ' ', time_elapsed)\n",
    "        total_time += time_elapsed\n",
    "        #print(my_array)\n",
    "    print('Total time: ', total_time)\n",
    "    \n",
    "    times_df.iat[i,2] = round((total_time/10),3)\n",
    "    print('Avg: ', times_df.iat[i,2])\n",
    "    \n",
    "    \n",
    "    \n",
    "times_df"
   ]
  },
  {
   "cell_type": "code",
   "execution_count": 33,
   "metadata": {},
   "outputs": [
    {
     "name": "stdout",
     "output_type": "stream",
     "text": [
      "Run number 0  0.2358253002166748\n",
      "Total time:  0.2358253002166748\n",
      "Run number 1  0.24445438385009766\n",
      "Total time:  0.48027968406677246\n",
      "Run number 2  0.23220014572143555\n",
      "Total time:  0.712479829788208\n",
      "Run number 3  0.22913908958435059\n",
      "Total time:  0.9416189193725586\n",
      "Run number 4  0.23070168495178223\n",
      "Total time:  1.1723206043243408\n",
      "Run number 5  0.22971510887145996\n",
      "Total time:  1.4020357131958008\n",
      "Run number 6  0.23392271995544434\n",
      "Total time:  1.6359584331512451\n",
      "Run number 7  0.22509193420410156\n",
      "Total time:  1.8610503673553467\n",
      "Run number 8  0.24017906188964844\n",
      "Total time:  2.101229429244995\n",
      "Run number 9  0.22684741020202637\n",
      "Total time:  2.3280768394470215\n",
      "Avg time:  0.233\n"
     ]
    }
   ],
   "source": [
    "total_time = 0\n",
    "for j in range(10):\n",
    "    my_array = random_array(500000)\n",
    "    start_time = time.time()\n",
    "    countingSort(my_array)\n",
    "    finish_time = time.time()\n",
    "    time_elapsed = finish_time - start_time\n",
    "    print('Run number ' + str(j) + ' ', time_elapsed)\n",
    "    total_time += time_elapsed\n",
    "    print('Total time: ', total_time)\n",
    "    \n",
    "print('Avg time: ' , round((total_time/10),3))"
   ]
  },
  {
   "cell_type": "markdown",
   "metadata": {},
   "source": [
    "## 4. InsertionSort"
   ]
  },
  {
   "cell_type": "code",
   "execution_count": 35,
   "metadata": {},
   "outputs": [],
   "source": [
    "# Adapted from https://runestone.academy/runestone/books/published/pythonds/SortSearch/TheInsertionSort.html\n",
    "def insertionSort(alist):\n",
    "   for index in range(1,len(alist)): # Assume 1st element is sorted, so iterate from 1 to end of array\n",
    "\n",
    "     currentvalue = alist[index]\n",
    "     position = index\n",
    "\n",
    "     while position>0 and alist[position-1]>currentvalue: # This loop will compare  current position against all previous elements and swap them if current position is less than previous element, until postion is 0.\n",
    "         alist[position]=alist[position-1] # swap with previous element if loop condition met\n",
    "         position = position-1 # decrement position , so in next loop it will now be compared with previous element\n",
    "\n",
    "     alist[position]=currentvalue # Second part of the swap (if swapping) or just assigning the same value if not swapping\n",
    "\n",
    "\n"
   ]
  },
  {
   "cell_type": "code",
   "execution_count": 169,
   "metadata": {},
   "outputs": [
    {
     "name": "stdout",
     "output_type": "stream",
     "text": [
      "array size: 100\n",
      "Run number 0  0.001634836196899414\n",
      "Run number 1  0.0004971027374267578\n",
      "Run number 2  0.004717588424682617\n",
      "Run number 3  0.0005810260772705078\n",
      "Run number 4  0.0004961490631103516\n",
      "Run number 5  0.001558065414428711\n",
      "Run number 6  0.0005218982696533203\n",
      "Run number 7  0.0004901885986328125\n",
      "Run number 8  0.0005986690521240234\n",
      "Run number 9  0.0005497932434082031\n",
      "Total time:  0.011645317077636719\n",
      "Avg:  0.001\n",
      "array size: 250\n",
      "Run number 0  0.009915590286254883\n",
      "Run number 1  0.008207321166992188\n",
      "Run number 2  0.013674736022949219\n",
      "Run number 3  0.003804922103881836\n",
      "Run number 4  0.008994817733764648\n",
      "Run number 5  0.014271259307861328\n",
      "Run number 6  0.003604888916015625\n",
      "Run number 7  0.007552385330200195\n",
      "Run number 8  0.01225733757019043\n",
      "Run number 9  0.008359193801879883\n",
      "Total time:  0.09064245223999023\n",
      "Avg:  0.009\n",
      "array size: 500\n",
      "Run number 0  0.03651571273803711\n",
      "Run number 1  0.03715944290161133\n",
      "Run number 2  0.036054372787475586\n",
      "Run number 3  0.03336739540100098\n",
      "Run number 4  0.03523707389831543\n",
      "Run number 5  0.04061079025268555\n",
      "Run number 6  0.032187461853027344\n",
      "Run number 7  0.03541302680969238\n",
      "Run number 8  0.0289456844329834\n",
      "Run number 9  0.05023384094238281\n",
      "Total time:  0.3657248020172119\n",
      "Avg:  0.037\n",
      "array size: 750\n",
      "Run number 0  0.08063411712646484\n",
      "Run number 1  0.07936239242553711\n",
      "Run number 2  0.07342052459716797\n",
      "Run number 3  0.08249044418334961\n",
      "Run number 4  0.08192014694213867\n",
      "Run number 5  0.07707905769348145\n",
      "Run number 6  0.07494425773620605\n",
      "Run number 7  0.04240679740905762\n",
      "Run number 8  0.07781529426574707\n",
      "Run number 9  0.07747554779052734\n",
      "Total time:  0.7475485801696777\n",
      "Avg:  0.075\n",
      "array size: 1000\n",
      "Run number 0  0.17571139335632324\n",
      "Run number 1  0.152357816696167\n",
      "Run number 2  0.14556097984313965\n",
      "Run number 3  0.13953804969787598\n",
      "Run number 4  0.1712172031402588\n",
      "Run number 5  0.15999245643615723\n",
      "Run number 6  0.16221904754638672\n",
      "Run number 7  0.14589619636535645\n",
      "Run number 8  0.1529076099395752\n",
      "Run number 9  0.15482330322265625\n",
      "Total time:  1.5602240562438965\n",
      "Avg:  0.156\n"
     ]
    },
    {
     "data": {
      "text/html": [
       "<div>\n",
       "<style scoped>\n",
       "    .dataframe tbody tr th:only-of-type {\n",
       "        vertical-align: middle;\n",
       "    }\n",
       "\n",
       "    .dataframe tbody tr th {\n",
       "        vertical-align: top;\n",
       "    }\n",
       "\n",
       "    .dataframe thead th {\n",
       "        text-align: right;\n",
       "    }\n",
       "</style>\n",
       "<table border=\"1\" class=\"dataframe\">\n",
       "  <thead>\n",
       "    <tr style=\"text-align: right;\">\n",
       "      <th></th>\n",
       "      <th>bubble</th>\n",
       "      <th>merge</th>\n",
       "      <th>counting</th>\n",
       "      <th>insertion</th>\n",
       "      <th>selection</th>\n",
       "      <th>n</th>\n",
       "    </tr>\n",
       "  </thead>\n",
       "  <tbody>\n",
       "    <tr>\n",
       "      <th>0</th>\n",
       "      <td>0.002</td>\n",
       "      <td>0.001</td>\n",
       "      <td>0</td>\n",
       "      <td>0.001</td>\n",
       "      <td>NaN</td>\n",
       "      <td>100</td>\n",
       "    </tr>\n",
       "    <tr>\n",
       "      <th>1</th>\n",
       "      <td>0.017</td>\n",
       "      <td>0.002</td>\n",
       "      <td>0</td>\n",
       "      <td>0.009</td>\n",
       "      <td>NaN</td>\n",
       "      <td>250</td>\n",
       "    </tr>\n",
       "    <tr>\n",
       "      <th>2</th>\n",
       "      <td>0.068</td>\n",
       "      <td>0.005</td>\n",
       "      <td>0.001</td>\n",
       "      <td>0.037</td>\n",
       "      <td>NaN</td>\n",
       "      <td>500</td>\n",
       "    </tr>\n",
       "    <tr>\n",
       "      <th>3</th>\n",
       "      <td>0.098</td>\n",
       "      <td>0.008</td>\n",
       "      <td>0.001</td>\n",
       "      <td>0.075</td>\n",
       "      <td>NaN</td>\n",
       "      <td>750</td>\n",
       "    </tr>\n",
       "    <tr>\n",
       "      <th>4</th>\n",
       "      <td>0.199</td>\n",
       "      <td>0.011</td>\n",
       "      <td>0</td>\n",
       "      <td>0.156</td>\n",
       "      <td>NaN</td>\n",
       "      <td>1000</td>\n",
       "    </tr>\n",
       "  </tbody>\n",
       "</table>\n",
       "</div>"
      ],
      "text/plain": [
       "  bubble  merge counting insertion selection     n\n",
       "0  0.002  0.001        0     0.001       NaN   100\n",
       "1  0.017  0.002        0     0.009       NaN   250\n",
       "2  0.068  0.005    0.001     0.037       NaN   500\n",
       "3  0.098  0.008    0.001     0.075       NaN   750\n",
       "4  0.199  0.011        0     0.156       NaN  1000"
      ]
     },
     "execution_count": 169,
     "metadata": {},
     "output_type": "execute_result"
    }
   ],
   "source": [
    "#array_size = [100, 250, 500, 750, 1000, 1250, 2500, 3750, 5000, 6250, 7500, 8750, 10000]\n",
    "\n",
    "array_size = [100,250,500,750,1000]\n",
    "\n",
    "for i in range(0,len(array_size)):\n",
    "    total_time = 0\n",
    "    print(\"array size: \" + str(array_size[i]))\n",
    "    for j in range(10):\n",
    "        my_array = random_array(array_size[i])\n",
    "        start_time = time.time()\n",
    "        insertionSort(my_array)\n",
    "        finish_time = time.time()\n",
    "        time_elapsed = finish_time - start_time\n",
    "        print('Run number ' + str(j) + ' ', time_elapsed)\n",
    "        total_time += time_elapsed\n",
    "        #print(my_array)\n",
    "    print('Total time: ', total_time)\n",
    "    \n",
    "    times_df.iat[i,3] = round((total_time/10),3)\n",
    "    print('Avg: ', times_df.iat[i,3])\n",
    "    \n",
    "    \n",
    "    \n",
    "times_df"
   ]
  },
  {
   "cell_type": "markdown",
   "metadata": {},
   "source": [
    "## 5. SelectionSort"
   ]
  },
  {
   "cell_type": "code",
   "execution_count": 37,
   "metadata": {},
   "outputs": [],
   "source": [
    "# Adapted from https://runestone.academy/runestone/books/published/pythonds/SortSearch/TheSelectionSort.html\n",
    "def selectionSort(alist):\n",
    "   for fillslot in range(len(alist)-1,0,-1):\n",
    "       positionOfMax=0\n",
    "       for location in range(1,fillslot+1):\n",
    "           if alist[location]>alist[positionOfMax]:\n",
    "               positionOfMax = location\n",
    "\n",
    "       temp = alist[fillslot]\n",
    "       alist[fillslot] = alist[positionOfMax]\n",
    "       alist[positionOfMax] = temp\n",
    "\n"
   ]
  },
  {
   "cell_type": "code",
   "execution_count": 170,
   "metadata": {},
   "outputs": [
    {
     "name": "stdout",
     "output_type": "stream",
     "text": [
      "array size: 100\n",
      "Run number 0  0.0009038448333740234\n",
      "Run number 1  0.0005435943603515625\n",
      "Run number 2  0.0006642341613769531\n",
      "Run number 3  0.005380868911743164\n",
      "Run number 4  0.0005748271942138672\n",
      "Run number 5  0.0006735324859619141\n",
      "Run number 6  0.0005290508270263672\n",
      "Run number 7  0.0005781650543212891\n",
      "Run number 8  0.0006744861602783203\n",
      "Run number 9  0.0007662773132324219\n",
      "Total time:  0.011288881301879883\n",
      "Avg:  0.001\n",
      "array size: 250\n",
      "Run number 0  0.00745391845703125\n",
      "Run number 1  0.00969839096069336\n",
      "Run number 2  0.0032837390899658203\n",
      "Run number 3  0.015871524810791016\n",
      "Run number 4  0.008264780044555664\n",
      "Run number 5  0.003275632858276367\n",
      "Run number 6  0.006083250045776367\n",
      "Run number 7  0.007756471633911133\n",
      "Run number 8  0.009593486785888672\n",
      "Run number 9  0.006356954574584961\n",
      "Total time:  0.07763814926147461\n",
      "Avg:  0.008\n",
      "array size: 500\n",
      "Run number 0  0.03584766387939453\n",
      "Run number 1  0.03334212303161621\n",
      "Run number 2  0.03269839286804199\n",
      "Run number 3  0.02743697166442871\n",
      "Run number 4  0.02559804916381836\n",
      "Run number 5  0.03111577033996582\n",
      "Run number 6  0.03126716613769531\n",
      "Run number 7  0.026738882064819336\n",
      "Run number 8  0.031149864196777344\n",
      "Run number 9  0.02472972869873047\n",
      "Total time:  0.2999246120452881\n",
      "Avg:  0.03\n",
      "array size: 750\n",
      "Run number 0  0.07506704330444336\n",
      "Run number 1  0.0669701099395752\n",
      "Run number 2  0.07086944580078125\n",
      "Run number 3  0.1036069393157959\n",
      "Run number 4  0.06432223320007324\n",
      "Run number 5  0.08072757720947266\n",
      "Run number 6  0.06114816665649414\n",
      "Run number 7  0.07013320922851562\n",
      "Run number 8  0.04055285453796387\n",
      "Run number 9  0.061235904693603516\n",
      "Total time:  0.6946334838867188\n",
      "Avg:  0.069\n",
      "array size: 1000\n",
      "Run number 0  0.11257505416870117\n",
      "Run number 1  0.12108254432678223\n",
      "Run number 2  0.12409472465515137\n",
      "Run number 3  0.13318300247192383\n",
      "Run number 4  0.11654281616210938\n",
      "Run number 5  0.12297940254211426\n",
      "Run number 6  0.1263277530670166\n",
      "Run number 7  0.12304496765136719\n",
      "Run number 8  0.12148761749267578\n",
      "Run number 9  0.1356642246246338\n",
      "Total time:  1.2369821071624756\n",
      "Avg:  0.124\n"
     ]
    },
    {
     "data": {
      "text/html": [
       "<div>\n",
       "<style scoped>\n",
       "    .dataframe tbody tr th:only-of-type {\n",
       "        vertical-align: middle;\n",
       "    }\n",
       "\n",
       "    .dataframe tbody tr th {\n",
       "        vertical-align: top;\n",
       "    }\n",
       "\n",
       "    .dataframe thead th {\n",
       "        text-align: right;\n",
       "    }\n",
       "</style>\n",
       "<table border=\"1\" class=\"dataframe\">\n",
       "  <thead>\n",
       "    <tr style=\"text-align: right;\">\n",
       "      <th></th>\n",
       "      <th>bubble</th>\n",
       "      <th>merge</th>\n",
       "      <th>counting</th>\n",
       "      <th>insertion</th>\n",
       "      <th>selection</th>\n",
       "      <th>n</th>\n",
       "    </tr>\n",
       "  </thead>\n",
       "  <tbody>\n",
       "    <tr>\n",
       "      <th>0</th>\n",
       "      <td>0.002</td>\n",
       "      <td>0.001</td>\n",
       "      <td>0</td>\n",
       "      <td>0.001</td>\n",
       "      <td>0.001</td>\n",
       "      <td>100</td>\n",
       "    </tr>\n",
       "    <tr>\n",
       "      <th>1</th>\n",
       "      <td>0.017</td>\n",
       "      <td>0.002</td>\n",
       "      <td>0</td>\n",
       "      <td>0.009</td>\n",
       "      <td>0.008</td>\n",
       "      <td>250</td>\n",
       "    </tr>\n",
       "    <tr>\n",
       "      <th>2</th>\n",
       "      <td>0.068</td>\n",
       "      <td>0.005</td>\n",
       "      <td>0.001</td>\n",
       "      <td>0.037</td>\n",
       "      <td>0.03</td>\n",
       "      <td>500</td>\n",
       "    </tr>\n",
       "    <tr>\n",
       "      <th>3</th>\n",
       "      <td>0.098</td>\n",
       "      <td>0.008</td>\n",
       "      <td>0.001</td>\n",
       "      <td>0.075</td>\n",
       "      <td>0.069</td>\n",
       "      <td>750</td>\n",
       "    </tr>\n",
       "    <tr>\n",
       "      <th>4</th>\n",
       "      <td>0.199</td>\n",
       "      <td>0.011</td>\n",
       "      <td>0</td>\n",
       "      <td>0.156</td>\n",
       "      <td>0.124</td>\n",
       "      <td>1000</td>\n",
       "    </tr>\n",
       "  </tbody>\n",
       "</table>\n",
       "</div>"
      ],
      "text/plain": [
       "  bubble  merge counting insertion selection     n\n",
       "0  0.002  0.001        0     0.001     0.001   100\n",
       "1  0.017  0.002        0     0.009     0.008   250\n",
       "2  0.068  0.005    0.001     0.037      0.03   500\n",
       "3  0.098  0.008    0.001     0.075     0.069   750\n",
       "4  0.199  0.011        0     0.156     0.124  1000"
      ]
     },
     "execution_count": 170,
     "metadata": {},
     "output_type": "execute_result"
    }
   ],
   "source": [
    "#array_size = [100, 250, 500, 750, 1000, 1250, 2500, 3750, 5000, 6250, 7500, 8750, 10000]\n",
    "\n",
    "array_size = [100,250,500,750,1000]\n",
    "\n",
    "for i in range(0,len(array_size)):\n",
    "    total_time = 0\n",
    "    print(\"array size: \" + str(array_size[i]))\n",
    "    for j in range(10):\n",
    "        my_array = random_array(array_size[i])\n",
    "        start_time = time.time()\n",
    "        selectionSort(my_array)\n",
    "        finish_time = time.time()\n",
    "        time_elapsed = finish_time - start_time\n",
    "        print('Run number ' + str(j) + ' ', time_elapsed)\n",
    "        total_time += time_elapsed\n",
    "        #print(my_array)\n",
    "    print('Total time: ', total_time)\n",
    "    \n",
    "    times_df.iat[i,4] = round((total_time/10),3)\n",
    "    print('Avg: ', times_df.iat[i,4])\n",
    "    \n",
    "    \n",
    "    \n",
    "times_df"
   ]
  },
  {
   "cell_type": "code",
   "execution_count": 171,
   "metadata": {},
   "outputs": [],
   "source": [
    "times_df['n'] = times_df['n'].astype(float)\n",
    "times_df['bubble'] = times_df['bubble'].astype(float)\n",
    "times_df['merge'] = times_df['merge'].astype(float)\n",
    "times_df['counting'] = times_df['counting'].astype(float)\n",
    "times_df['insertion'] = times_df['insertion'].astype(float)\n",
    "times_df['selection'] = times_df['selection'].astype(float)"
   ]
  },
  {
   "cell_type": "code",
   "execution_count": 172,
   "metadata": {},
   "outputs": [
    {
     "data": {
      "text/plain": [
       "<matplotlib.axes._subplots.AxesSubplot at 0x7f9253601518>"
      ]
     },
     "execution_count": 172,
     "metadata": {},
     "output_type": "execute_result"
    },
    {
     "data": {
      "image/png": "[encoded data removed]",
      "text/plain": [
       "<Figure size 432x288 with 1 Axes>"
      ]
     },
     "metadata": {},
     "output_type": "display_data"
    }
   ],
   "source": [
    "sns.lineplot(data=times_df)"
   ]
  },
  {
   "cell_type": "code",
   "execution_count": null,
   "metadata": {},
   "outputs": [],
   "source": [
    "def countingSortStable(array1):\n",
    "    m = len(array1) \n",
    "    count = [0] * m   # make an array with m elements containing 0             \n",
    "    \n",
    "    for a in array1: # iterate over the array to be sorted\n",
    "        count[a] += 1    # add 1 to count array at index a. This will be done for every value a in the original array\n",
    "    for i in range(1,len(count)): # Transform the count array such that count[i] will contain how many elements are <= i.\n",
    "        count[i] = count[i] + count[i - 1] # So that when we iterate backwards through original array, we know how many elements go before it\n",
    "    \n",
    "    return array1 # return the sorted array"
   ]
  },
  {
   "cell_type": "code",
   "execution_count": 82,
   "metadata": {},
   "outputs": [
    {
     "data": {
      "text/plain": [
       "[28, 58, 48, 43, 75, 11, 36, 9, 25, 71]"
      ]
     },
     "execution_count": 82,
     "metadata": {},
     "output_type": "execute_result"
    }
   ],
   "source": [
    "arr1 = random_array(10)\n",
    "arr1"
   ]
  },
  {
   "cell_type": "code",
   "execution_count": 83,
   "metadata": {},
   "outputs": [],
   "source": [
    "count = [0]* 100"
   ]
  },
  {
   "cell_type": "code",
   "execution_count": 84,
   "metadata": {},
   "outputs": [
    {
     "data": {
      "text/plain": [
       "10"
      ]
     },
     "execution_count": 84,
     "metadata": {},
     "output_type": "execute_result"
    }
   ],
   "source": [
    "len(arr1)"
   ]
  },
  {
   "cell_type": "code",
   "execution_count": 85,
   "metadata": {},
   "outputs": [
    {
     "data": {
      "text/plain": [
       "[0,\n",
       " 0,\n",
       " 0,\n",
       " 0,\n",
       " 0,\n",
       " 0,\n",
       " 0,\n",
       " 0,\n",
       " 0,\n",
       " 1,\n",
       " 0,\n",
       " 1,\n",
       " 0,\n",
       " 0,\n",
       " 0,\n",
       " 0,\n",
       " 0,\n",
       " 0,\n",
       " 0,\n",
       " 0,\n",
       " 0,\n",
       " 0,\n",
       " 0,\n",
       " 0,\n",
       " 0,\n",
       " 1,\n",
       " 0,\n",
       " 0,\n",
       " 1,\n",
       " 0,\n",
       " 0,\n",
       " 0,\n",
       " 0,\n",
       " 0,\n",
       " 0,\n",
       " 0,\n",
       " 1,\n",
       " 0,\n",
       " 0,\n",
       " 0,\n",
       " 0,\n",
       " 0,\n",
       " 0,\n",
       " 1,\n",
       " 0,\n",
       " 0,\n",
       " 0,\n",
       " 0,\n",
       " 1,\n",
       " 0,\n",
       " 0,\n",
       " 0,\n",
       " 0,\n",
       " 0,\n",
       " 0,\n",
       " 0,\n",
       " 0,\n",
       " 0,\n",
       " 1,\n",
       " 0,\n",
       " 0,\n",
       " 0,\n",
       " 0,\n",
       " 0,\n",
       " 0,\n",
       " 0,\n",
       " 0,\n",
       " 0,\n",
       " 0,\n",
       " 0,\n",
       " 0,\n",
       " 1,\n",
       " 0,\n",
       " 0,\n",
       " 0,\n",
       " 1,\n",
       " 0,\n",
       " 0,\n",
       " 0,\n",
       " 0,\n",
       " 0,\n",
       " 0,\n",
       " 0,\n",
       " 0,\n",
       " 0,\n",
       " 0,\n",
       " 0,\n",
       " 0,\n",
       " 0,\n",
       " 0,\n",
       " 0,\n",
       " 0,\n",
       " 0,\n",
       " 0,\n",
       " 0,\n",
       " 0,\n",
       " 0,\n",
       " 0,\n",
       " 0,\n",
       " 0]"
      ]
     },
     "execution_count": 85,
     "metadata": {},
     "output_type": "execute_result"
    }
   ],
   "source": [
    "for a in arr1:\n",
    "    count[a] += 1\n",
    "\n",
    "count"
   ]
  },
  {
   "cell_type": "code",
   "execution_count": 86,
   "metadata": {},
   "outputs": [
    {
     "data": {
      "text/plain": [
       "100"
      ]
     },
     "execution_count": 86,
     "metadata": {},
     "output_type": "execute_result"
    }
   ],
   "source": [
    "len(count)"
   ]
  },
  {
   "cell_type": "code",
   "execution_count": 87,
   "metadata": {},
   "outputs": [
    {
     "data": {
      "text/plain": [
       "[0,\n",
       " 0,\n",
       " 0,\n",
       " 0,\n",
       " 0,\n",
       " 0,\n",
       " 0,\n",
       " 0,\n",
       " 0,\n",
       " 1,\n",
       " 1,\n",
       " 2,\n",
       " 2,\n",
       " 2,\n",
       " 2,\n",
       " 2,\n",
       " 2,\n",
       " 2,\n",
       " 2,\n",
       " 2,\n",
       " 2,\n",
       " 2,\n",
       " 2,\n",
       " 2,\n",
       " 2,\n",
       " 3,\n",
       " 3,\n",
       " 3,\n",
       " 4,\n",
       " 4,\n",
       " 4,\n",
       " 4,\n",
       " 4,\n",
       " 4,\n",
       " 4,\n",
       " 4,\n",
       " 5,\n",
       " 5,\n",
       " 5,\n",
       " 5,\n",
       " 5,\n",
       " 5,\n",
       " 5,\n",
       " 6,\n",
       " 6,\n",
       " 6,\n",
       " 6,\n",
       " 6,\n",
       " 7,\n",
       " 7,\n",
       " 7,\n",
       " 7,\n",
       " 7,\n",
       " 7,\n",
       " 7,\n",
       " 7,\n",
       " 7,\n",
       " 7,\n",
       " 8,\n",
       " 8,\n",
       " 8,\n",
       " 8,\n",
       " 8,\n",
       " 8,\n",
       " 8,\n",
       " 8,\n",
       " 8,\n",
       " 8,\n",
       " 8,\n",
       " 8,\n",
       " 8,\n",
       " 9,\n",
       " 9,\n",
       " 9,\n",
       " 9,\n",
       " 10,\n",
       " 10,\n",
       " 10,\n",
       " 10,\n",
       " 10,\n",
       " 10,\n",
       " 10,\n",
       " 10,\n",
       " 10,\n",
       " 10,\n",
       " 10,\n",
       " 10,\n",
       " 10,\n",
       " 10,\n",
       " 10,\n",
       " 10,\n",
       " 10,\n",
       " 10,\n",
       " 10,\n",
       " 10,\n",
       " 10,\n",
       " 10,\n",
       " 10,\n",
       " 10,\n",
       " 10]"
      ]
     },
     "execution_count": 87,
     "metadata": {},
     "output_type": "execute_result"
    }
   ],
   "source": [
    "for i in range(1,len(count)):\n",
    "    count[i] = count[i] + count[i - 1]\n",
    "\n",
    "count"
   ]
  },
  {
   "cell_type": "code",
   "execution_count": 121,
   "metadata": {},
   "outputs": [
    {
     "name": "stdout",
     "output_type": "stream",
     "text": [
      "[9, 41, 48, 93, 91, 7, 40, 82, 83, 61, 76, 36, 86, 99, 29, 17, 46, 70, 81, 42, 60, 20, 15, 79, 99, 85, 0, 57, 12, 26, 97, 0, 32, 37, 96, 95, 71, 57, 14, 85, 18, 94, 3, 25, 74, 69, 67, 79, 37, 43, 61, 36, 62, 96, 45, 77, 52, 45, 81, 91, 78, 94, 23, 56, 44, 49, 54, 74, 78, 0, 65, 62, 17, 29, 96, 9, 48, 49, 95, 75, 32, 77, 43, 34, 55, 37, 90, 66, 92, 54, 79, 69, 93, 50, 15, 21, 62, 51, 40, 85]\n",
      "[3, 0, 0, 1, 0, 0, 0, 1, 0, 2, 0, 0, 1, 0, 1, 2, 0, 2, 1, 0, 1, 1, 0, 1, 0, 1, 1, 0, 0, 2, 0, 0, 2, 0, 1, 0, 2, 3, 0, 0, 2, 1, 1, 2, 1, 2, 1, 0, 2, 2, 1, 1, 1, 0, 2, 1, 1, 2, 0, 0, 1, 2, 3, 0, 0, 1, 1, 1, 0, 2, 1, 1, 0, 0, 2, 1, 1, 2, 2, 3, 0, 2, 1, 1, 0, 3, 1, 0, 0, 0, 1, 2, 1, 2, 2, 2, 3, 1, 0, 2]\n",
      "[3, 3, 3, 4, 4, 4, 4, 5, 5, 7, 7, 7, 8, 8, 9, 11, 11, 13, 14, 14, 15, 16, 16, 17, 17, 18, 19, 19, 19, 21, 21, 21, 23, 23, 24, 24, 26, 29, 29, 29, 31, 32, 33, 35, 36, 38, 39, 39, 41, 43, 44, 45, 46, 46, 48, 49, 50, 52, 52, 52, 53, 55, 58, 58, 58, 59, 60, 61, 61, 63, 64, 65, 65, 65, 67, 68, 69, 71, 73, 76, 76, 78, 79, 80, 80, 83, 84, 84, 84, 84, 85, 87, 88, 90, 92, 94, 97, 98, 98, 100]\n"
     ]
    }
   ],
   "source": [
    "def countingSortStable(arr1):\n",
    "    print(arr1)\n",
    "    count = [0]* 100\n",
    "    for a in arr1:\n",
    "        count[a] += 1\n",
    "    print(count)\n",
    "\n",
    "    for i in range(1,len(count)):\n",
    "        count[i] = count[i] + count[i - 1]\n",
    "\n",
    "    print(count)\n",
    "\n",
    "    result = [0] * len(arr1)\n",
    "    for i in range(len(arr1),0,-1):\n",
    "        j = arr1[i - 1]\n",
    "        count[j] = count[j] -1\n",
    "        res = count[j]\n",
    "        result[res] = j\n",
    "\n",
    "    return result\n",
    "\n",
    "x = countingSortStable(random_array(100))"
   ]
  },
  {
   "cell_type": "code",
   "execution_count": 122,
   "metadata": {},
   "outputs": [
    {
     "data": {
      "text/plain": [
       "[0,\n",
       " 0,\n",
       " 0,\n",
       " 3,\n",
       " 7,\n",
       " 9,\n",
       " 9,\n",
       " 12,\n",
       " 14,\n",
       " 15,\n",
       " 15,\n",
       " 17,\n",
       " 17,\n",
       " 18,\n",
       " 20,\n",
       " 21,\n",
       " 23,\n",
       " 25,\n",
       " 26,\n",
       " 29,\n",
       " 29,\n",
       " 32,\n",
       " 32,\n",
       " 34,\n",
       " 36,\n",
       " 36,\n",
       " 37,\n",
       " 37,\n",
       " 37,\n",
       " 40,\n",
       " 40,\n",
       " 41,\n",
       " 42,\n",
       " 43,\n",
       " 43,\n",
       " 44,\n",
       " 45,\n",
       " 45,\n",
       " 46,\n",
       " 48,\n",
       " 48,\n",
       " 49,\n",
       " 49,\n",
       " 50,\n",
       " 51,\n",
       " 52,\n",
       " 54,\n",
       " 54,\n",
       " 55,\n",
       " 56,\n",
       " 57,\n",
       " 57,\n",
       " 60,\n",
       " 61,\n",
       " 61,\n",
       " 62,\n",
       " 62,\n",
       " 62,\n",
       " 65,\n",
       " 66,\n",
       " 67,\n",
       " 69,\n",
       " 69,\n",
       " 70,\n",
       " 71,\n",
       " 74,\n",
       " 74,\n",
       " 75,\n",
       " 76,\n",
       " 77,\n",
       " 77,\n",
       " 78,\n",
       " 78,\n",
       " 79,\n",
       " 79,\n",
       " 79,\n",
       " 81,\n",
       " 81,\n",
       " 82,\n",
       " 83,\n",
       " 85,\n",
       " 85,\n",
       " 85,\n",
       " 86,\n",
       " 90,\n",
       " 91,\n",
       " 91,\n",
       " 92,\n",
       " 93,\n",
       " 93,\n",
       " 94,\n",
       " 94,\n",
       " 95,\n",
       " 95,\n",
       " 96,\n",
       " 96,\n",
       " 96,\n",
       " 97,\n",
       " 99,\n",
       " 99]"
      ]
     },
     "execution_count": 122,
     "metadata": {},
     "output_type": "execute_result"
    }
   ],
   "source": [
    "x"
   ]
  },
  {
   "cell_type": "code",
   "execution_count": 114,
   "metadata": {},
   "outputs": [
    {
     "data": {
      "text/plain": [
       "[1, 4, 30, 35, 35, 55, 83, 90, 91, 95]"
      ]
     },
     "execution_count": 114,
     "metadata": {},
     "output_type": "execute_result"
    }
   ],
   "source": [
    "x.sort()\n",
    "x"
   ]
  },
  {
   "cell_type": "code",
   "execution_count": 35,
   "metadata": {},
   "outputs": [
    {
     "data": {
      "text/plain": [
       "101"
      ]
     },
     "execution_count": 35,
     "metadata": {},
     "output_type": "execute_result"
    }
   ],
   "source": [
    "len(count_transform)"
   ]
  },
  {
   "cell_type": "code",
   "execution_count": 54,
   "metadata": {},
   "outputs": [
    {
     "data": {
      "text/plain": [
       "[0, 0, 0, 0, 0, 0, 0, 0, 0, 0]"
      ]
     },
     "execution_count": 54,
     "metadata": {},
     "output_type": "execute_result"
    }
   ],
   "source": [
    "result = [0] * len(arr1)\n",
    "result"
   ]
  },
  {
   "cell_type": "code",
   "execution_count": 92,
   "metadata": {},
   "outputs": [
    {
     "data": {
      "text/plain": [
       "9"
      ]
     },
     "execution_count": 92,
     "metadata": {},
     "output_type": "execute_result"
    }
   ],
   "source": [
    "count[71] "
   ]
  },
  {
   "cell_type": "code",
   "execution_count": 67,
   "metadata": {},
   "outputs": [
    {
     "data": {
      "text/plain": [
       "39"
      ]
     },
     "execution_count": 67,
     "metadata": {},
     "output_type": "execute_result"
    }
   ],
   "source": [
    "arr1[9]"
   ]
  },
  {
   "cell_type": "code",
   "execution_count": 88,
   "metadata": {},
   "outputs": [
    {
     "name": "stdout",
     "output_type": "stream",
     "text": [
      "10\n",
      "9\n",
      "8\n",
      "7\n",
      "6\n",
      "5\n",
      "4\n",
      "3\n",
      "2\n",
      "1\n"
     ]
    }
   ],
   "source": [
    "for i in range(10,0,-1):\n",
    "    print(i)"
   ]
  },
  {
   "cell_type": "code",
   "execution_count": 91,
   "metadata": {},
   "outputs": [
    {
     "data": {
      "text/plain": [
       "[28, 58, 48, 43, 75, 11, 36, 9, 25, 71]"
      ]
     },
     "execution_count": 91,
     "metadata": {},
     "output_type": "execute_result"
    }
   ],
   "source": [
    "arr1"
   ]
  },
  {
   "cell_type": "code",
   "execution_count": 95,
   "metadata": {},
   "outputs": [
    {
     "data": {
      "text/plain": [
       "71"
      ]
     },
     "execution_count": 95,
     "metadata": {},
     "output_type": "execute_result"
    }
   ],
   "source": [
    "j = arr1[9]\n",
    "j"
   ]
  },
  {
   "cell_type": "code",
   "execution_count": 96,
   "metadata": {},
   "outputs": [
    {
     "data": {
      "text/plain": [
       "9"
      ]
     },
     "execution_count": 96,
     "metadata": {},
     "output_type": "execute_result"
    }
   ],
   "source": [
    "count[j]"
   ]
  },
  {
   "cell_type": "code",
   "execution_count": 97,
   "metadata": {},
   "outputs": [
    {
     "data": {
      "text/plain": [
       "8"
      ]
     },
     "execution_count": 97,
     "metadata": {},
     "output_type": "execute_result"
    }
   ],
   "source": [
    "count[j] = count[j] -1 \n",
    "count[j]"
   ]
  },
  {
   "cell_type": "code",
   "execution_count": 98,
   "metadata": {},
   "outputs": [],
   "source": [
    "res = count[j]"
   ]
  },
  {
   "cell_type": "code",
   "execution_count": 99,
   "metadata": {},
   "outputs": [
    {
     "data": {
      "text/plain": [
       "8"
      ]
     },
     "execution_count": 99,
     "metadata": {},
     "output_type": "execute_result"
    }
   ],
   "source": [
    "res"
   ]
  },
  {
   "cell_type": "code",
   "execution_count": 101,
   "metadata": {},
   "outputs": [
    {
     "data": {
      "text/plain": [
       "71"
      ]
     },
     "execution_count": 101,
     "metadata": {},
     "output_type": "execute_result"
    }
   ],
   "source": [
    "result[res] = j\n",
    "result[res]"
   ]
  },
  {
   "cell_type": "code",
   "execution_count": null,
   "metadata": {},
   "outputs": [],
   "source": []
  }
 ],
 "metadata": {
  "kernelspec": {
   "display_name": "Python 3",
   "language": "python",
   "name": "python3"
  },
  "language_info": {
   "codemirror_mode": {
    "name": "ipython",
    "version": 3
   },
   "file_extension": ".py",
   "mimetype": "text/x-python",
   "name": "python",
   "nbconvert_exporter": "python",
   "pygments_lexer": "ipython3",
   "version": "3.7.3"
  }
 },
 "nbformat": 4,
 "nbformat_minor": 4
}
